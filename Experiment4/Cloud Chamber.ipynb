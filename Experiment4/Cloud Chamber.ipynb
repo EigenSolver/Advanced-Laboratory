{
 "cells": [
  {
   "cell_type": "markdown",
   "metadata": {},
   "source": [
    "# Cloud Chamber\n",
    "\n",
    "-Yuning Zhang, Physics, UCSB, CA 93117"
   ]
  },
  {
   "cell_type": "code",
   "execution_count": 1,
   "metadata": {},
   "outputs": [],
   "source": [
    "import numpy as np\n",
    "import pandas as pd\n",
    "import matplotlib.pylab as plt\n",
    "import os"
   ]
  },
  {
   "cell_type": "markdown",
   "metadata": {},
   "source": [
    "Load data from text files"
   ]
  },
  {
   "cell_type": "code",
   "execution_count": 2,
   "metadata": {},
   "outputs": [
    {
     "name": "stderr",
     "output_type": "stream",
     "text": [
      "C:\\Users\\neuro\\Anaconda3\\lib\\site-packages\\ipykernel_launcher.py:2: FutureWarning: read_table is deprecated, use read_csv instead, passing sep='\\t'.\n",
      "  \n",
      "C:\\Users\\neuro\\Anaconda3\\lib\\site-packages\\ipykernel_launcher.py:3: FutureWarning: read_table is deprecated, use read_csv instead, passing sep='\\t'.\n",
      "  This is separate from the ipykernel package so we can avoid doing imports until\n",
      "C:\\Users\\neuro\\Anaconda3\\lib\\site-packages\\ipykernel_launcher.py:4: FutureWarning: read_table is deprecated, use read_csv instead, passing sep='\\t'.\n",
      "  after removing the cwd from sys.path.\n"
     ]
    }
   ],
   "source": [
    "data1=np.loadtxt(\"./data/data1.txt\")\n",
    "data2=pd.read_table(\"./data/data2.txt\").values\n",
    "data3=pd.read_table(\"./data/data3.txt\").values\n",
    "data_CF4=pd.read_table(\"./data/data4.txt\").values[:,-1]"
   ]
  },
  {
   "cell_type": "code",
   "execution_count": 3,
   "metadata": {},
   "outputs": [],
   "source": [
    "def get_trajectory_gray_value(n,directory=\"./data/\"):\n",
    "    gray_value=pd.read_csv(directory+\"trj_gv{0}.csv\".format(n))\n",
    "    background=pd.read_csv(directory+\"trj_bg{0}.csv\".format(n))\n",
    "    return pd.DataFrame([gray_value.X,gray_value.Y-background.Y]).transpose()"
   ]
  },
  {
   "cell_type": "code",
   "execution_count": 4,
   "metadata": {},
   "outputs": [
    {
     "name": "stdout",
     "output_type": "stream",
     "text": [
      "systematic error: 0.10146cm\n"
     ]
    }
   ],
   "source": [
    "pixel_d=6/354.8#cm\n",
    "precision=6*pixel_d # 640*480\n",
    "print(\"systematic error: \"+str(precision)[:7]+\"cm\")"
   ]
  },
  {
   "cell_type": "code",
   "execution_count": 5,
   "metadata": {
    "scrolled": true
   },
   "outputs": [
    {
     "ename": "NameError",
     "evalue": "name 'traj_lens' is not defined",
     "output_type": "error",
     "traceback": [
      "\u001b[1;31m---------------------------------------------------------------------------\u001b[0m",
      "\u001b[1;31mNameError\u001b[0m                                 Traceback (most recent call last)",
      "\u001b[1;32m<ipython-input-5-7daf413d213e>\u001b[0m in \u001b[0;36m<module>\u001b[1;34m\u001b[0m\n\u001b[0;32m      1\u001b[0m \u001b[0mplt\u001b[0m\u001b[1;33m.\u001b[0m\u001b[0mfigure\u001b[0m\u001b[1;33m(\u001b[0m\u001b[1;33m)\u001b[0m\u001b[1;33m.\u001b[0m\u001b[0mdpi\u001b[0m\u001b[1;33m=\u001b[0m\u001b[1;36m100\u001b[0m\u001b[1;33m\u001b[0m\u001b[1;33m\u001b[0m\u001b[0m\n\u001b[1;32m----> 2\u001b[1;33m \u001b[0mplt\u001b[0m\u001b[1;33m.\u001b[0m\u001b[0mhist\u001b[0m\u001b[1;33m(\u001b[0m\u001b[0mtraj_lens\u001b[0m\u001b[1;33m,\u001b[0m\u001b[0mbins\u001b[0m\u001b[1;33m=\u001b[0m\u001b[1;36m40\u001b[0m\u001b[1;33m)\u001b[0m\u001b[1;33m\u001b[0m\u001b[1;33m\u001b[0m\u001b[0m\n\u001b[0m\u001b[0;32m      3\u001b[0m \u001b[0mplt\u001b[0m\u001b[1;33m.\u001b[0m\u001b[0mxlabel\u001b[0m\u001b[1;33m(\u001b[0m\u001b[1;34m\"Trajectory Length [cm]\"\u001b[0m\u001b[1;33m)\u001b[0m\u001b[1;33m\u001b[0m\u001b[1;33m\u001b[0m\u001b[0m\n\u001b[0;32m      4\u001b[0m \u001b[0mplt\u001b[0m\u001b[1;33m.\u001b[0m\u001b[0mylabel\u001b[0m\u001b[1;33m(\u001b[0m\u001b[1;34m\"Counts [1]\"\u001b[0m\u001b[1;33m)\u001b[0m\u001b[1;33m\u001b[0m\u001b[1;33m\u001b[0m\u001b[0m\n\u001b[0;32m      5\u001b[0m \u001b[0mplt\u001b[0m\u001b[1;33m.\u001b[0m\u001b[0mshow\u001b[0m\u001b[1;33m(\u001b[0m\u001b[1;33m)\u001b[0m\u001b[1;33m\u001b[0m\u001b[1;33m\u001b[0m\u001b[0m\n",
      "\u001b[1;31mNameError\u001b[0m: name 'traj_lens' is not defined"
     ]
    },
    {
     "data": {
      "text/plain": [
       "<Figure size 600x400 with 0 Axes>"
      ]
     },
     "metadata": {},
     "output_type": "display_data"
    }
   ],
   "source": [
    "plt.figure().dpi=100\n",
    "plt.hist(traj_lens,bins=40)\n",
    "plt.xlabel(\"Trajectory Length [cm]\")\n",
    "plt.ylabel(\"Counts [1]\")\n",
    "plt.show()"
   ]
  },
  {
   "cell_type": "code",
   "execution_count": null,
   "metadata": {},
   "outputs": [],
   "source": [
    "avg_l=np.mean(traj_lens)\n",
    "std_l=np.std(traj_lens)\n",
    "sdom_l=std_l/np.sqrt(len(traj_lens))\n",
    "sigma_l=np.sqrt(sdom_l**2+precision**2)\n",
    "print(\"Mean:\",avg_l)\n",
    "print(\"Uncertainty:\",sigma_l)\n",
    "print(\"Standard Deviation:\",std_l)"
   ]
  },
  {
   "cell_type": "code",
   "execution_count": null,
   "metadata": {},
   "outputs": [],
   "source": [
    "plt.figure().dpi=100\n",
    "plt.hist(data_CF4,bins=40)\n",
    "plt.xlabel(\"Trajectory Length [cm]\")\n",
    "plt.ylabel(\"Counts [1]\")\n",
    "plt.show()"
   ]
  },
  {
   "cell_type": "code",
   "execution_count": null,
   "metadata": {},
   "outputs": [],
   "source": [
    "avg_l_CF4=np.mean(data_CF4)\n",
    "std_l_CF4=np.std(data_CF4)\n",
    "sdom_l_CF4=std_l/np.sqrt(len(data_CF4))\n",
    "sigma_l_CF4=np.sqrt(sdom_l_CF4**2+precision**2)\n",
    "print(\"Mean:\",avg_l_CF4)\n",
    "print(\"Uncertainty:\",sigma_l_CF4)\n",
    "print(\"Standard Deviation:\",std_l_CF4)"
   ]
  },
  {
   "cell_type": "code",
   "execution_count": null,
   "metadata": {},
   "outputs": [],
   "source": [
    "rho_ratio=avg_l_CF4/avg_l\n",
    "sigma_rho_ratio=rho_ratio*np.sqrt((sigma_l_CF4/avg_l_CF4)**2+(sigma_l/avg_l)**2)\n",
    "print(\"Ratio:\",rho_ratio)\n",
    "print(\"Uncertainty:\",sigma_rho_ratio)"
   ]
  },
  {
   "cell_type": "code",
   "execution_count": null,
   "metadata": {},
   "outputs": [],
   "source": [
    "aggregate_Y=pd.DataFrame([])\n",
    "bound=[210,220]\n",
    "plt.figure().set_dpi(100)\n",
    "for n in range(1,20):\n",
    "    traj_gv=get_trajectory_gray_value(n)\n",
    "#     print(len(traj_gv.X))\n",
    "    if bound[0]<len(traj_gv)<bound[1]:\n",
    "        aggregate_Y=pd.concat([aggregate_Y,traj_gv.Y],axis=1)\n",
    "        plt.plot(traj_gv.X,traj_gv.Y,\".\")\n",
    "plt.xlabel(\"Passage Distance [cm]\")\n",
    "plt.ylabel(\"Gray Value [1]\")"
   ]
  },
  {
   "cell_type": "code",
   "execution_count": null,
   "metadata": {
    "scrolled": true
   },
   "outputs": [],
   "source": [
    "sampling_d=traj_gv.X[2]-traj_gv.X[1]\n",
    "# aggregate_Y=aggregate_Y.rolling(3).mean()\n",
    "plt.figure().dpi=130\n",
    "plt.xlabel(\"Passage Distance [cm]\")\n",
    "plt.ylabel(\"Gray Value [1]\")\n",
    "Y_error=aggregate_Y.std(axis=1)/aggregate_Y.count(axis=1).apply(np.sqrt)\n",
    "X=sampling_d*np.arange(len(aggregate_Y))\n",
    "Y=aggregate_Y.mean(axis=1)\n",
    "plt.errorbar(X,Y,yerr=Y_error)\n",
    "#plt.plot(moving_average(traj_gv.X.values,bit),moving_average(traj_gv.Y.values,bit),\".\")\n",
    "plt.show()"
   ]
  },
  {
   "cell_type": "raw",
   "metadata": {},
   "source": []
  }
 ],
 "metadata": {
  "kernelspec": {
   "display_name": "Python 3",
   "language": "python",
   "name": "python3"
  },
  "language_info": {
   "codemirror_mode": {
    "name": "ipython",
    "version": 3
   },
   "file_extension": ".py",
   "mimetype": "text/x-python",
   "name": "python",
   "nbconvert_exporter": "python",
   "pygments_lexer": "ipython3",
   "version": "3.7.3"
  }
 },
 "nbformat": 4,
 "nbformat_minor": 2
}
